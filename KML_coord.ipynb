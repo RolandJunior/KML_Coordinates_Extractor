{
  "nbformat": 4,
  "nbformat_minor": 0,
  "metadata": {
    "kernelspec": {
      "display_name": "Python 3",
      "language": "python",
      "name": "python3"
    },
    "language_info": {
      "codemirror_mode": {
        "name": "ipython",
        "version": 3
      },
      "file_extension": ".py",
      "mimetype": "text/x-python",
      "name": "python",
      "nbconvert_exporter": "python",
      "pygments_lexer": "ipython3",
      "version": "3.7.6"
    },
    "colab": {
      "name": "KML_coord.ipynb",
      "provenance": [],
      "collapsed_sections": []
    }
  },
  "cells": [
    {
      "cell_type": "code",
      "metadata": {
        "id": "cOIaTVPz7I3Q",
        "colab_type": "code",
        "colab": {}
      },
      "source": [
        "import xml.etree.ElementTree as ET\n",
        "import re"
      ],
      "execution_count": 0,
      "outputs": []
    },
    {
      "cell_type": "code",
      "metadata": {
        "id": "Yp1kCYg-8tia",
        "colab_type": "code",
        "colab": {}
      },
      "source": [
        "tree = ET.parse('../content/drive/My Drive/Temp/input.kml')\n",
        "root = tree.getroot()"
      ],
      "execution_count": 0,
      "outputs": []
    },
    {
      "cell_type": "code",
      "metadata": {
        "id": "iPaAxGL2lzyq",
        "colab_type": "code",
        "colab": {
          "base_uri": "https://localhost:8080/",
          "height": 51
        },
        "outputId": "1ef17277-f7d7-4e3a-f840-fdc4816abb3c"
      },
      "source": [
        "print(root.tag)\n",
        "namespace = re.match('\\{(.*?)\\}kml', root.tag).group(1)\n",
        "print(namespace)\n",
        "ns = {'def': namespace}"
      ],
      "execution_count": 465,
      "outputs": [
        {
          "output_type": "stream",
          "text": [
            "{http://www.opengis.net/kml/2.2}kml\n",
            "http://www.opengis.net/kml/2.2\n"
          ],
          "name": "stdout"
        }
      ]
    },
    {
      "cell_type": "code",
      "metadata": {
        "id": "dmmLWmyWqRzo",
        "colab_type": "code",
        "colab": {
          "base_uri": "https://localhost:8080/",
          "height": 102
        },
        "outputId": "1ec9160c-ac70-4680-fa51-25e8accd3c76"
      },
      "source": [
        "pins = []\n",
        "\n",
        "f = open('../content/drive/My Drive/Temp/output.txt','w')\n",
        "for i in root.findall('.//def:Placemark[def:Point]', ns):\n",
        "  name = i.find('def:name', ns).text\n",
        "  coord = i.find('.//def:coordinates', ns).text.split(',')\n",
        "  pins.append(','.join([name, coord[1], coord[0]]))\n",
        "  f.write(f'{name},{coord[1]},{coord[0]}\\n')\n",
        "f.close() \n",
        "\n",
        "pins"
      ],
      "execution_count": 466,
      "outputs": [
        {
          "output_type": "execute_result",
          "data": {
            "text/plain": [
              "['Airport,-23.62905312630074,-46.65488517140603',\n",
              " 'P0,-23.62142340041809,-46.64772196775775',\n",
              " 'P1,-23.63135908294911,-46.64207797693951',\n",
              " 'P2,-23.61941165173023,-46.66234577398668',\n",
              " 'P2.1,-23.63919902539727,-46.65149411160536']"
            ]
          },
          "metadata": {
            "tags": []
          },
          "execution_count": 466
        }
      ]
    }
  ]
}